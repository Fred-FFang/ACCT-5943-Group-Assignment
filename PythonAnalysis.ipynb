{
 "cells": [
  {
   "cell_type": "markdown",
   "id": "b4574d94-50fa-477a-85e5-ad76387ced9a",
   "metadata": {},
   "source": [
    "<H1>Start"
   ]
  },
  {
   "cell_type": "markdown",
   "id": "52e1b939-62b3-461e-bc6e-1aad20bceafb",
   "metadata": {},
   "source": [
    "<h2>Some housekeeping"
   ]
  },
  {
   "cell_type": "markdown",
   "id": "57dfe007-8ea1-4d23-8c4b-d0ccf916ddd1",
   "metadata": {},
   "source": [
    "<h2>These codes work in both windows and macintosh operating systems, as long as the Python version is 3.11 and above. "
   ]
  },
  {
   "cell_type": "markdown",
   "id": "43286611-ba77-44c4-8c89-366259ed0168",
   "metadata": {},
   "source": [
    "Check your version"
   ]
  },
  {
   "cell_type": "code",
   "execution_count": null,
   "id": "60aae9d0-82d1-482c-bd19-264599d8e037",
   "metadata": {},
   "outputs": [],
   "source": [
    "from platform import python_version\n",
    "print(python_version())"
   ]
  },
  {
   "cell_type": "markdown",
   "id": "40c2108a-abf9-42d4-8f66-6407f2e49a69",
   "metadata": {},
   "source": [
    "If the codes are not running, i.e., no output cells, no error messages, retart the Kernel, go to 'Kernel' at the top of the tool bar, choose \"Retart Kernel\""
   ]
  },
  {
   "cell_type": "markdown",
   "id": "e4d75172-8b77-4a98-afbc-cfa9c0e46ffc",
   "metadata": {},
   "source": [
    "Use the \"run\" button in the tool bar to executive the codes in each cell, or hightlight the cell then \"shift + enter\". You can do a \"Run All Cells\" under the \"Run\" function in the tool bar to run all the codes in once."
   ]
  },
  {
   "cell_type": "markdown",
   "id": "c60e41b9-b41f-4e9b-a5b5-142fb7835714",
   "metadata": {},
   "source": [
    "<h1>The Basics of Python coding"
   ]
  },
  {
   "cell_type": "markdown",
   "id": "e05f7134-3542-473b-b296-0cab2bed9ee5",
   "metadata": {},
   "source": [
    "<h1>Understand the different types of variables and the associated operators"
   ]
  },
  {
   "cell_type": "markdown",
   "id": "538a99c0-9591-40a6-82e2-1b76b266a579",
   "metadata": {},
   "source": [
    "`first_name`, `second_name`, `name` are the created variables. Enter inputs in the right hand side of the \"=\". Use \" \" for string variables, "
   ]
  },
  {
   "cell_type": "code",
   "execution_count": null,
   "id": "d1acee9c-e37b-491b-8a0f-7622a14c1923",
   "metadata": {},
   "outputs": [],
   "source": [
    "first_name = \"Taylor\"\n",
    "second_name = \"Swift\"\n",
    "name = first_name + \" \" + second_name\n",
    "print(name)\n",
    "\n",
    "number_t=name.count('t') #count the number of t in name\n",
    "print(\"Times t appears in the name is:\",number_t)\n",
    "\n",
    "Age_years = 35\n",
    "Age_hours = round(24*365.25*Age_years)#default value of the round function is 0\n",
    "print(\"Age_hours is:\",Age_hours,\".\")\n",
    "\n",
    "month = 12\n",
    "day = 13\n",
    "if month > day:\n",
    "    print(\"month > day\")\n",
    "else:\n",
    "    print(\"Month is not greater than day.\")\n",
    "\n",
    "\n",
    "name = \"Taylor Swift\"\n",
    "print('YOU ROCK' + ' ' + name.upper() + '!') #upper(): upper case"
   ]
  },
  {
   "cell_type": "markdown",
   "id": "adbb9f22-e91c-49b6-9363-ca8b9c974744",
   "metadata": {},
   "source": [
    "<h2>Run the following codes will create 4 files, DATA.csv, correlation_matrix_heatmap.png, summary_output.xlsx, and panel_ols_summary_output.xlsx. All files created will be stored under the same folder as this jupyter notebook. Make sure your group_{number}_data.csv is in the same folder as this jupyter notebook \"PythonAnalysis_FINAL\" in order to run this notebook properly.\n",
    "\n",
    "<h2>Suggested steps:\n",
    "\n",
    "<h3>Understand the notebook as a whole. Refer to relevant sections in the lecture notes and other reference materials, such as teaching notes, the 'Assessment-Details' document and research papers, to grasp the key concepts and the purpose of this project.\n",
    "    \n",
    "<h3>You can break the jupyter notebook into TWO main sections:\n",
    "    \n",
    "<h3>1. Focus on understanding the Perform Exploratory Data Analysis, which involves manipulating dataframes and preparing data for Principal Component Analysis (PCA). \n",
    "    \n",
    "<h3>2. Regression analysis; compare and contrast different models to comprehend their purposes fully."
   ]
  },
  {
   "cell_type": "markdown",
   "id": "d577e772-29e9-426b-8956-7b3924534468",
   "metadata": {},
   "source": [
    "<h1>PART ONE"
   ]
  },
  {
   "cell_type": "markdown",
   "id": "3666aa28-474c-4995-bd14-a56104495f7e",
   "metadata": {},
   "source": [
    "<h2> Step 1: Import the libraries"
   ]
  },
  {
   "cell_type": "code",
   "execution_count": null,
   "id": "a9577ab4-de4c-4784-9c5f-3a23eaa2cb26",
   "metadata": {},
   "outputs": [],
   "source": [
    "import matplotlib.pyplot as plt #data visulisation package\n",
    "import pandas as pd #pandas to create dataframe\n",
    "import seaborn as sns #seaborn for graph plots\n",
    "import numpy as np #numpy for data manipulation"
   ]
  },
  {
   "cell_type": "markdown",
   "id": "5ecc8b83-57b5-4418-b501-ca9e1201cd83",
   "metadata": {},
   "source": [
    "<h2>Step 2: Understand the data using pandas"
   ]
  },
  {
   "cell_type": "markdown",
   "id": "b0e8de71-3a35-47cf-ac54-10b91fa37d3d",
   "metadata": {},
   "source": [
    "Read the csv file you just scraped using the \"student_scraper.ipynp\" file into a dataframe in pandas as 'group_53_data.csv' (the name on the left hand side of the \"=\") is the name of the dataframe we create, you can use whatever name that suits; the csv file name (on the right hand side of the \"=\") your group scraped is not going to be 'group_53_data.csv', it will be 'group_#_data.csv', the # is the group number your lecturer allocates to your group."
   ]
  },
  {
   "cell_type": "code",
   "execution_count": null,
   "id": "4f161ecd-4eef-46fc-a5e1-69f309ed24f0",
   "metadata": {},
   "outputs": [],
   "source": [
    "group_53_data=pd.read_csv(\"group_53_data.csv\")"
   ]
  },
  {
   "cell_type": "markdown",
   "id": "b2e28134-14b9-4e7b-ae3f-c38dbdd45d04",
   "metadata": {},
   "source": [
    "<h3>Perform Exploratory Data Analysis (EDA)"
   ]
  },
  {
   "cell_type": "markdown",
   "id": "834862a8-e50d-40bb-95be-a1635f50e730",
   "metadata": {},
   "source": [
    "Find out the data rows and columns. The first value=number of rows, the second value=number of columns. This sample dataset has 40 firm-year observations and 11 variables. The next line of code shows what these 11 variables are. **Report the total observations in your report**. "
   ]
  },
  {
   "cell_type": "code",
   "execution_count": null,
   "id": "fefb42ab-4bda-4ded-a364-a7aa2077aed9",
   "metadata": {},
   "outputs": [],
   "source": [
    "group_53_data.shape "
   ]
  },
  {
   "cell_type": "markdown",
   "id": "f9af4063-8264-4183-8de0-04b9390f995d",
   "metadata": {},
   "source": [
    "Display the data, python starts the row and column from 0, not 1; hence the last row = (number of rows -1)"
   ]
  },
  {
   "cell_type": "code",
   "execution_count": null,
   "id": "9588e2f7-e4f7-4ef8-9eb4-5a3e5a31f547",
   "metadata": {},
   "outputs": [],
   "source": [
    "group_53_data"
   ]
  },
  {
   "cell_type": "markdown",
   "id": "64ccfcbb-57db-4bf0-8419-835e998460e5",
   "metadata": {},
   "source": [
    "List the *fist* five rows of the data"
   ]
  },
  {
   "cell_type": "code",
   "execution_count": null,
   "id": "2532a4b9-0d4b-4209-bdf0-9018b76e6c69",
   "metadata": {},
   "outputs": [],
   "source": [
    "group_53_data.head() #default is 5, can put any number in ()"
   ]
  },
  {
   "cell_type": "markdown",
   "id": "2abcc4a2-077e-45c2-abf6-8a604d5fe22e",
   "metadata": {},
   "source": [
    "List the *last* five rows of the data"
   ]
  },
  {
   "cell_type": "code",
   "execution_count": null,
   "id": "3f6f7cd1-3347-4a11-b3ab-bc20343d8196",
   "metadata": {},
   "outputs": [],
   "source": [
    "group_53_data.tail()"
   ]
  },
  {
   "cell_type": "markdown",
   "id": "14344330-abc7-465c-a13b-b24b1d9ca74d",
   "metadata": {},
   "source": [
    "<h5>Check if any column has missing values"
   ]
  },
  {
   "cell_type": "markdown",
   "id": "0e906b2d-ed07-41c7-b2b2-50295ce93b86",
   "metadata": {},
   "source": [
    "If the second column in the output cell is all 0 means there is no missing observations. If ther is 0 in the column, consider dropping these variables (columns) or use other extrapoliation methods to fill the missing values. **Report your findings**."
   ]
  },
  {
   "cell_type": "code",
   "execution_count": null,
   "id": "a99dee51-dc79-4d7b-999a-7244d866c88c",
   "metadata": {},
   "outputs": [],
   "source": [
    "group_53_data.isnull().sum()"
   ]
  },
  {
   "cell_type": "markdown",
   "id": "f287c494-b5ae-442c-a9ff-fe483f3b0a2b",
   "metadata": {},
   "source": [
    "List all the columns names"
   ]
  },
  {
   "cell_type": "code",
   "execution_count": null,
   "id": "f602de15-57d3-4001-8546-c9e1eb546758",
   "metadata": {},
   "outputs": [],
   "source": [
    "group_53_data.columns"
   ]
  },
  {
   "cell_type": "markdown",
   "id": "b325bc35-811b-415b-8379-b4efa7de9616",
   "metadata": {},
   "source": [
    "List selected columns: `Company-Year`, `stock_FinancialYEnd`"
   ]
  },
  {
   "cell_type": "code",
   "execution_count": null,
   "id": "294d96ab-326e-48e9-82a7-22f2ac343ed2",
   "metadata": {},
   "outputs": [],
   "source": [
    "group_53_data[['Company-Year', 'stock_FinancialYEnd']]"
   ]
  },
  {
   "cell_type": "markdown",
   "id": "bc92ddbb-9c9c-4da1-8cc2-a717657f3784",
   "metadata": {},
   "source": [
    "List the first 2 rows of the selected columns"
   ]
  },
  {
   "cell_type": "code",
   "execution_count": null,
   "id": "77795e50-1855-4e02-9eda-322a0ec720ee",
   "metadata": {},
   "outputs": [],
   "source": [
    "group_53_data[0:2][['ESG Risk Exposure Score', 'ESG Risk Managed Score']]"
   ]
  },
  {
   "cell_type": "markdown",
   "id": "63dcdbc6-dc93-4c5c-896f-e1a7e45f1284",
   "metadata": {},
   "source": [
    "Show the observatoins under the `Sector` column."
   ]
  },
  {
   "cell_type": "code",
   "execution_count": null,
   "id": "fe12ad5d-5f50-4424-8488-467558a1e491",
   "metadata": {},
   "outputs": [],
   "source": [
    "group_53_data[['Sector']]"
   ]
  },
  {
   "cell_type": "markdown",
   "id": "956f7401-aa4c-4bba-9d75-7b00c1460a54",
   "metadata": {},
   "source": [
    "Find out the data type of `Sector`. If the answer is *float* or *int*, the variable is stored as a number; if it is *object* then the variable is stored as a string, pandas only reads *float* and *int* as numbers. At a later step, we will covert the string variables into *float* or *int* in order to run regression analysis."
   ]
  },
  {
   "cell_type": "code",
   "execution_count": null,
   "id": "af0888a5-046c-4953-a749-880c06143ba3",
   "metadata": {},
   "outputs": [],
   "source": [
    "print(group_53_data['Sector'].dtype)"
   ]
  },
  {
   "cell_type": "markdown",
   "id": "77d1ed67-6a8f-40e7-bfce-833b63502767",
   "metadata": {},
   "source": [
    "List the unique values under `Sector`, **report the findings**."
   ]
  },
  {
   "cell_type": "code",
   "execution_count": null,
   "id": "590837ab-3a65-4267-9fa0-bbff79fde922",
   "metadata": {},
   "outputs": [],
   "source": [
    "pd.unique(group_53_data['Sector'])"
   ]
  },
  {
   "cell_type": "markdown",
   "id": "ab60de1f-916a-42ea-bc03-35a0c69cf8fb",
   "metadata": {},
   "source": [
    "How many rows (firms) under each `Sector`? **Report the findings.**"
   ]
  },
  {
   "cell_type": "code",
   "execution_count": null,
   "id": "b71f7de1-22ab-4550-be9a-ae27a1d3aa10",
   "metadata": {
    "scrolled": true
   },
   "outputs": [],
   "source": [
    "group_53_data['Sector'].value_counts()"
   ]
  },
  {
   "cell_type": "markdown",
   "id": "5715302b-0e78-4330-8683-bc828de88a4d",
   "metadata": {},
   "source": [
    "<h4>Boolean indexing"
   ]
  },
  {
   "cell_type": "markdown",
   "id": "84eda2df-edfd-4d02-80de-9826f8d2188e",
   "metadata": {},
   "source": [
    "Find out what company is not in the \"Energy\" sector, \"True\" means that the company is not in the Energy sector."
   ]
  },
  {
   "cell_type": "code",
   "execution_count": null,
   "id": "cb2eb70e-adfe-4d3e-a31e-f5d6f6058437",
   "metadata": {},
   "outputs": [],
   "source": [
    "group_53_data['Sector']!='Energy'"
   ]
  },
  {
   "cell_type": "markdown",
   "id": "54c68a4a-41fd-4bb8-865f-2093756a149c",
   "metadata": {},
   "source": [
    "Filter the data with the boolean indexing: only show data that are not in the \"Energy\" sector using \"!=\""
   ]
  },
  {
   "cell_type": "code",
   "execution_count": null,
   "id": "448d8252-b60d-4f16-9430-b637526575d8",
   "metadata": {},
   "outputs": [],
   "source": [
    "group_53_data[group_53_data['Sector'] != 'Energy']"
   ]
  },
  {
   "cell_type": "markdown",
   "id": "bee77f08-ecdf-4e86-bcb2-6f07b05ed315",
   "metadata": {},
   "source": [
    "Find out how many companies are NOT in the 'Energy' sector. In this output, the first number is the number of observations, i.e., companies. **Report your findings**."
   ]
  },
  {
   "cell_type": "code",
   "execution_count": null,
   "id": "ff1c38af-1691-4a8b-94e4-acda363006cd",
   "metadata": {},
   "outputs": [],
   "source": [
    "group_53_data[group_53_data['Sector'] != 'Energy'].shape"
   ]
  },
  {
   "cell_type": "markdown",
   "id": "027546bf-bd07-4631-a425-3b44dc9ab21d",
   "metadata": {},
   "source": [
    "What are the 10 highest year-end `stock_FinancialYEnd` stock prices, the 10 highest quarter after the year-end `stock_FollowingQtrEnd` stock prices? **Report your findings**."
   ]
  },
  {
   "cell_type": "code",
   "execution_count": null,
   "id": "c794f6db-2770-4b5c-9399-2f478ed7ead4",
   "metadata": {},
   "outputs": [],
   "source": [
    "group_53_data.nlargest(10, ['stock_FinancialYEnd'])"
   ]
  },
  {
   "cell_type": "code",
   "execution_count": null,
   "id": "fbacc7b1-29fe-4348-938e-6599ea99b2cc",
   "metadata": {},
   "outputs": [],
   "source": [
    "group_53_data.nlargest(10, ['stock_FollowingQtrEnd'])"
   ]
  },
  {
   "cell_type": "markdown",
   "id": "c608d3b3-d3ae-4b38-af56-7bdbbff3d229",
   "metadata": {},
   "source": [
    "Split the `Company-Year` column into two columns: Company, Year"
   ]
  },
  {
   "cell_type": "code",
   "execution_count": null,
   "id": "9f05b229-bbc1-43c0-ac34-2ce3aa6961bc",
   "metadata": {},
   "outputs": [],
   "source": [
    "group_53_data[['Company', 'Year']] = group_53_data['Company-Year'].str.split('-', expand=True)"
   ]
  },
  {
   "cell_type": "markdown",
   "id": "aedb36de-2995-40a2-abd8-cb509cbdd2bf",
   "metadata": {},
   "source": [
    "Check the columns"
   ]
  },
  {
   "cell_type": "code",
   "execution_count": null,
   "id": "706828be-d619-4ede-9f4e-67edd9ca4ba0",
   "metadata": {},
   "outputs": [],
   "source": [
    "group_53_data.head()"
   ]
  },
  {
   "cell_type": "markdown",
   "id": "1245079d-324e-4a8d-84ae-fb78354f1231",
   "metadata": {},
   "source": [
    "Rename the dataframe from 'group_53_data' to 'DATA' for easy typing. You can rename it in a different name but must rember the new dataframe name in the future steps or pandas won't recognise it."
   ]
  },
  {
   "cell_type": "code",
   "execution_count": null,
   "id": "ba54901c-6418-461c-a394-fccb15e6ab7e",
   "metadata": {},
   "outputs": [],
   "source": [
    "DATA=group_53_data"
   ]
  },
  {
   "cell_type": "markdown",
   "id": "a328f77b-f896-4da3-9661-d822fc2bdaed",
   "metadata": {},
   "source": [
    "Check the data under the renamed dataframe"
   ]
  },
  {
   "cell_type": "code",
   "execution_count": null,
   "id": "45be1f23-b3b2-4e89-a147-6c77747e1b2a",
   "metadata": {},
   "outputs": [],
   "source": [
    "DATA.head()"
   ]
  },
  {
   "cell_type": "markdown",
   "id": "e6365459-ebc1-4401-ba67-36fedc23a922",
   "metadata": {},
   "source": [
    "Reorder the columns so `Company` and `Year` are at the front"
   ]
  },
  {
   "cell_type": "code",
   "execution_count": null,
   "id": "2de81dfa-7ed7-4e19-99b1-f373bc15cbce",
   "metadata": {},
   "outputs": [],
   "source": [
    "DATA=DATA[['Company', 'Year','Company-Year', 'Sector', 'stock_FinancialYEnd', 'stock_FollowingQtrEnd', \n",
    "           'BasicEPS', \"total shareholder's equity\",'Basic avg shares', 'NetIncomeAvailShareholders', \n",
    "           'ESG Risk Exposure Score', 'ESG Risk Managed Score', 'Sustainalytics ESG Risk Classification']]"
   ]
  },
  {
   "cell_type": "markdown",
   "id": "99946af2-6076-46ce-bfad-f6d752382983",
   "metadata": {},
   "source": [
    "Drop the column `Company-Year`"
   ]
  },
  {
   "cell_type": "code",
   "execution_count": null,
   "id": "653a55c1-5f0c-4fa7-a576-c8c007fed8e2",
   "metadata": {},
   "outputs": [],
   "source": [
    "DATA = DATA.drop(columns=['Company-Year'])"
   ]
  },
  {
   "cell_type": "markdown",
   "id": "388ba9a0-b66b-40c1-9839-808f3617c270",
   "metadata": {},
   "source": [
    "For fixed effect analyses later, map each unique `Sector` with a dummy code and create a new variable/column `SECTOR`. *In your scraped data, the `Sectors` maybe different, check what sectors you have first before the mapping*. **Report the process**."
   ]
  },
  {
   "cell_type": "code",
   "execution_count": null,
   "id": "f80f9785-4542-49c7-ab9a-815050bfea7d",
   "metadata": {},
   "outputs": [],
   "source": [
    "DATA['Sector'] = DATA['Sector'].astype('category')\n",
    " \n",
    "DATA['SECTOR'] = DATA['Sector'].cat.codes + 1\n",
    " \n",
    "sector_mapping = dict(enumerate(DATA['Sector'].cat.categories, start=1))\n",
    "print(\"Sector Mapping:\\n\", sector_mapping)"
   ]
  },
  {
   "cell_type": "markdown",
   "id": "954527bb-dfa8-4e23-8801-029ef4126d35",
   "metadata": {},
   "source": [
    "Check your data and **reporting the process**."
   ]
  },
  {
   "cell_type": "code",
   "execution_count": null,
   "id": "ead7f0cb-9355-472e-944b-9666269f6c08",
   "metadata": {},
   "outputs": [],
   "source": [
    "DATA.head()"
   ]
  },
  {
   "cell_type": "markdown",
   "id": "23e54475-d391-4b41-a43c-61eb7139bb64",
   "metadata": {},
   "source": [
    "Reorder the columns"
   ]
  },
  {
   "cell_type": "code",
   "execution_count": null,
   "id": "d79ea242-43e9-4b1a-b914-c4bb61ee34c0",
   "metadata": {},
   "outputs": [],
   "source": [
    "DATA=DATA[['Company', 'Year','SECTOR', 'Sector', 'stock_FinancialYEnd', 'stock_FollowingQtrEnd', 'BasicEPS', \n",
    "           \"total shareholder's equity\",'Basic avg shares', 'NetIncomeAvailShareholders', \n",
    "           'ESG Risk Exposure Score', 'ESG Risk Managed Score', 'Sustainalytics ESG Risk Classification']]"
   ]
  },
  {
   "cell_type": "markdown",
   "id": "eeac80fc-a673-4948-adad-d531709456f6",
   "metadata": {},
   "source": [
    "<h2>Step 3: Descriptive Statistics"
   ]
  },
  {
   "cell_type": "markdown",
   "id": "f613e1bb-b306-4c22-9c67-6007d63966b1",
   "metadata": {},
   "source": [
    "First, check the data types to see whether data transformation/conversion is required. **Write the process in your report**, i.e., how many are \"object\", what are they, and why you need to convert/transform them."
   ]
  },
  {
   "cell_type": "code",
   "execution_count": null,
   "id": "c16ed5ba-eae6-4bca-b5d0-95064d2e16d3",
   "metadata": {},
   "outputs": [],
   "source": [
    "print(DATA.info())"
   ]
  },
  {
   "cell_type": "markdown",
   "id": "9e39d5d5-e87c-47ed-9b46-bc292f96a57b",
   "metadata": {},
   "source": [
    "`Year`,`total shareholder's equity`,`Basic avg shares`, `NetIncomeAvailShareholders` are strings separated by \",\"; pandas reads them as strings and won't treat them as numbers, we first need to convert them into float type. **Write the process in your report**."
   ]
  },
  {
   "cell_type": "code",
   "execution_count": null,
   "id": "ad7980b3-2677-403b-912e-1223de78ae51",
   "metadata": {},
   "outputs": [],
   "source": [
    "cols=[\"Year\",\"total shareholder's equity\",'Basic avg shares','NetIncomeAvailShareholders']\n",
    "DATA[cols]=DATA[cols].apply(lambda x: pd.to_numeric(x.astype(str).str.replace(',',''), errors='coerce'))"
   ]
  },
  {
   "cell_type": "markdown",
   "id": "bc24c3df-526c-4b01-a4eb-656a6c138cbe",
   "metadata": {},
   "source": [
    "Check your data again after the conversion"
   ]
  },
  {
   "cell_type": "code",
   "execution_count": null,
   "id": "449433b4-d0b0-4135-91d9-ddd6fa31c7fc",
   "metadata": {},
   "outputs": [],
   "source": [
    "print(DATA.info())"
   ]
  },
  {
   "cell_type": "markdown",
   "id": "75e6c138-de80-489c-99cd-8f2925965196",
   "metadata": {},
   "source": [
    "Round the selected variables into 2 decimal places"
   ]
  },
  {
   "cell_type": "code",
   "execution_count": null,
   "id": "9fcda8b6-d20e-49cd-84a5-d338133730b6",
   "metadata": {},
   "outputs": [],
   "source": [
    "DATA.round({\"stock_FinancialYEnd\":2, \"stock_FollowingQtrEnd\":2, \"ESG Risk Exposure Score\":2, \n",
    "            \"ESG Risk Managed Score\":2, \"Sustainalytics ESG Risk Classification\":2 })"
   ]
  },
  {
   "cell_type": "markdown",
   "id": "3a120a70-219d-4189-81e2-9168ba14a438",
   "metadata": {},
   "source": [
    "Create a new variable (book value to equity) `BVE`; **report the process**."
   ]
  },
  {
   "cell_type": "code",
   "execution_count": null,
   "id": "5090e8b3-89f7-4cfb-9d7f-fa86270166cf",
   "metadata": {},
   "outputs": [],
   "source": [
    "DATA['BVE'] = DATA[\"total shareholder's equity\"] / DATA['Basic avg shares']"
   ]
  },
  {
   "cell_type": "markdown",
   "id": "fe2c3960-0875-4d0e-bade-186ca017f6d2",
   "metadata": {},
   "source": [
    "<h2>Step 4: PCA analysis"
   ]
  },
  {
   "cell_type": "markdown",
   "id": "96c64cdb-5bb7-46b5-be50-adc8ede59e67",
   "metadata": {},
   "source": [
    "Import liabraries to run PCA"
   ]
  },
  {
   "cell_type": "code",
   "execution_count": null,
   "id": "1b628eee-1479-4c02-bde2-617e2064a2de",
   "metadata": {},
   "outputs": [],
   "source": [
    "from sklearn.preprocessing import StandardScaler\n",
    "from sklearn.decomposition import PCA"
   ]
  },
  {
   "cell_type": "markdown",
   "id": "aaf6df2b-bef6-4a0d-b30f-fdf8a3c908c5",
   "metadata": {},
   "source": [
    "Create an index `esg_index` using PCA for all 3 ESG scores, and **report the process**. "
   ]
  },
  {
   "cell_type": "code",
   "execution_count": null,
   "id": "a7d7d7e8-84f3-49ce-9837-b1f2851ce3df",
   "metadata": {},
   "outputs": [],
   "source": [
    "esg_scores = DATA[['ESG Risk Exposure Score', 'ESG Risk Managed Score', 'Sustainalytics ESG Risk Classification']]"
   ]
  },
  {
   "cell_type": "markdown",
   "id": "48bc8887-a8e1-463b-b9f7-64e5026bf953",
   "metadata": {},
   "source": [
    "Standardise the features"
   ]
  },
  {
   "cell_type": "code",
   "execution_count": null,
   "id": "9aecb1f6-c00b-464d-8c49-15f251b8e5d3",
   "metadata": {},
   "outputs": [],
   "source": [
    "scaler = StandardScaler()\n",
    "esg_scores_scaled = scaler.fit_transform(esg_scores)"
   ]
  },
  {
   "cell_type": "markdown",
   "id": "817d3f6a-ab50-43a1-b38a-c33743223846",
   "metadata": {},
   "source": [
    "Apply PCA"
   ]
  },
  {
   "cell_type": "code",
   "execution_count": null,
   "id": "295b8d2d-09bd-4d02-88d5-7230661ecc51",
   "metadata": {},
   "outputs": [],
   "source": [
    "pca = PCA(n_components=1)\n",
    "esg_index = pca.fit_transform(esg_scores_scaled)"
   ]
  },
  {
   "cell_type": "markdown",
   "id": "51f085d4-e3f3-49da-a9cb-77596d2f98a5",
   "metadata": {},
   "source": [
    "Create a new variable `ESG_Index` and add it to the dataframe"
   ]
  },
  {
   "cell_type": "code",
   "execution_count": null,
   "id": "c2f2de7d-09c6-477e-bfa1-df5b28bae09f",
   "metadata": {},
   "outputs": [],
   "source": [
    "DATA['ESG_Index']=esg_index"
   ]
  },
  {
   "cell_type": "code",
   "execution_count": null,
   "id": "018b226e-67c9-4561-84fc-02cce4bc4517",
   "metadata": {},
   "outputs": [],
   "source": [
    "DATA.head()"
   ]
  },
  {
   "cell_type": "markdown",
   "id": "34331a40-6b7d-40eb-981f-48bcf4d343a8",
   "metadata": {},
   "source": [
    "Check the variance loading, **report the variance loading in your report and interpret what the loading means**."
   ]
  },
  {
   "cell_type": "code",
   "execution_count": null,
   "id": "7498ed96-f675-4e6f-b49e-a6b14db1aa7f",
   "metadata": {},
   "outputs": [],
   "source": [
    "print(\"\\nExplained variance ratio:\", pca.explained_variance_ratio_[0])"
   ]
  },
  {
   "cell_type": "markdown",
   "id": "fe8a605d-eca3-42ec-8a04-aff1a2a40fc2",
   "metadata": {},
   "source": [
    "Show the loadings (importance) of each ESG score in the index. The highest loading is component 1, Python will creat a PCA using the highest loading. **Report the loading**. "
   ]
  },
  {
   "cell_type": "code",
   "execution_count": null,
   "id": "7ffdd8ba-214f-4018-a1ea-4fbee463e1e8",
   "metadata": {},
   "outputs": [],
   "source": [
    "loadings = pd.DataFrame(\n",
    "    pca.components_.T,\n",
    "    columns=['Loading'],\n",
    "    index=['ESG Risk Exposure Score', 'ESG Risk Managed Score', 'Sustainalytics ESG Risk Classification']\n",
    ")\n",
    "print(\"\\nPCA Loadings:\")\n",
    "print(loadings) "
   ]
  },
  {
   "cell_type": "markdown",
   "id": "a0e0d021-5385-48c6-b96f-674820822477",
   "metadata": {},
   "source": [
    "***Correlation matrix*** "
   ]
  },
  {
   "cell_type": "markdown",
   "id": "cf9c6712-b5bf-4ad9-8ea3-20e20858897e",
   "metadata": {},
   "source": [
    "Perform correlation analysis and print out the heatmap."
   ]
  },
  {
   "cell_type": "markdown",
   "id": "56cf8c64-427a-46b0-8d30-519b02e2f2ee",
   "metadata": {},
   "source": [
    "Must specify the non-string variables otherwise the corr() code won't run. Save the matrix heatmap, **include it in your report**."
   ]
  },
  {
   "cell_type": "code",
   "execution_count": null,
   "id": "d7e81cc2-ea9c-445c-8490-62f418762199",
   "metadata": {},
   "outputs": [],
   "source": [
    "correlation_matrix = DATA[\n",
    "    ['SECTOR', 'stock_FinancialYEnd', 'stock_FollowingQtrEnd', 'BasicEPS', \"total shareholder's equity\",\n",
    "     'Basic avg shares', 'NetIncomeAvailShareholders', 'ESG Risk Exposure Score', 'ESG Risk Managed Score', \n",
    "     'Sustainalytics ESG Risk Classification', 'BVE', 'ESG_Index']\n",
    "].corr()\n",
    "\n",
    "plt.figure(figsize=(10, 8)) # Set up the matplotlib figure\n",
    "sns.heatmap(correlation_matrix, annot=True, cmap='coolwarm', center=0, fmt=\".2f\", linewidths=.5)\n",
    "plt.title('Correlation Matrix Heatmap')\n",
    "plt.xticks(rotation=45, ha='right')\n",
    "plt.savefig('correlation_matrix_heatmap.png', dpi=300, bbox_inches='tight')\n",
    "plt.show()"
   ]
  },
  {
   "cell_type": "markdown",
   "id": "c09edeae-8017-49de-ba10-2dd8654af734",
   "metadata": {},
   "source": [
    "Rename the columns, the statsmodels library does not recognise variables with 'space'."
   ]
  },
  {
   "cell_type": "code",
   "execution_count": null,
   "id": "408fcdaa-54b3-4c75-a7d3-ac57528c9fda",
   "metadata": {},
   "outputs": [],
   "source": [
    "DATA.rename(columns={\"NetIncomeAvailShareholders\": \"profit\", \n",
    "                     \"ESG Risk Exposure Score\": \"ESG_Exposure\", \n",
    "                     \"ESG Risk Managed Score\": \"ESG_Managed\", \n",
    "                     \"Sustainalytics ESG Risk Classification\": \"ESG_Class\"}, inplace=True)"
   ]
  },
  {
   "cell_type": "markdown",
   "id": "acc6266d-dbbe-4f75-996a-520746943c76",
   "metadata": {},
   "source": [
    "Check the dataframe after renaming"
   ]
  },
  {
   "cell_type": "code",
   "execution_count": null,
   "id": "8103d2be-2fdf-4eae-93ef-447d91d01cea",
   "metadata": {},
   "outputs": [],
   "source": [
    "DATA.head()"
   ]
  },
  {
   "cell_type": "markdown",
   "id": "d768433b-aad4-4646-84f4-7b82bacb7d74",
   "metadata": {},
   "source": [
    "Save the new dataframe to csv"
   ]
  },
  {
   "cell_type": "code",
   "execution_count": null,
   "id": "5c1a31ba-3971-4ae1-a436-bfe95364a174",
   "metadata": {},
   "outputs": [],
   "source": [
    "DATA.to_csv('DATA.csv')"
   ]
  },
  {
   "cell_type": "markdown",
   "id": "bba19a21-9ba3-466f-ad3d-263b7a4a9de7",
   "metadata": {},
   "source": [
    "<h1>PART TWO"
   ]
  },
  {
   "cell_type": "markdown",
   "id": "927a18df-26cd-4132-9644-d8d5e27e22d6",
   "metadata": {},
   "source": [
    "<h2>Regression Analysis"
   ]
  },
  {
   "cell_type": "markdown",
   "id": "14a1a171-fb94-427d-9734-4fd3af0a054d",
   "metadata": {},
   "source": [
    "We have provided a few different stats models here; choose the best model to interpet the results. Due to the random data scraping, you may find some models perform better/poorer, **export the results and include them in your report as sensitive analyses and state that you have tried other models**. Focus on interpretting the model(s) that yield the best results, i.e., with significant parameters (p-value<10%) of `BVE`, `BasicEPS`, `4 ESG scores` (try one score at a time, four scores in one model may not run as they are correlated)."
   ]
  },
  {
   "cell_type": "markdown",
   "id": "8eae7495-209e-4f8c-8cd7-5041c97a3de8",
   "metadata": {},
   "source": [
    "<h2>Install fixed effect model and statsmodels"
   ]
  },
  {
   "cell_type": "code",
   "execution_count": null,
   "id": "13b3dafe-5f09-4930-8a81-06a3dfdf0d2f",
   "metadata": {},
   "outputs": [],
   "source": [
    "%pip install FixedEffectModel\n",
    "import statsmodels.api as sm\n",
    "import statsmodels.formula.api as smf"
   ]
  },
  {
   "cell_type": "markdown",
   "id": "b9ed25d8-fa73-4f20-be4f-986734776cd8",
   "metadata": {},
   "source": [
    "<h2>Estimate a few simple Ohlsson models, export the tables that you think are important to Excel, report them in your report and discuss the results. "
   ]
  },
  {
   "cell_type": "code",
   "execution_count": null,
   "id": "853e59ae-2302-4a1f-8ce6-717f62066156",
   "metadata": {},
   "outputs": [],
   "source": [
    "model=smf.ols('stock_FinancialYEnd ~ BVE + BasicEPS', data=DATA)\n",
    "results=model.fit()\n",
    "print(results.summary())"
   ]
  },
  {
   "cell_type": "markdown",
   "id": "010a8a4f-370a-483e-8c49-6202eeef6b02",
   "metadata": {},
   "source": [
    "In the above regression model, the p-value for the coefficient of `BVE` is very small, indicating that `BVE` is a statistically significant predictor of `stock_FinancialYEnd`. This means there is strong evidence that `BVE` contributes to explaining the variations in `stock_FinancialYEnd`. However, the p-value for `BasicEPS` is large - greater than 10%, suggesting that `BasicEPS` is not a statistically significant predictor at conventional levels. \n",
    "\n",
    "In the next model, we include `profit` as an additional predictor variable to test its significance. You may consider experimenting with different combinations of variables to identify which ones significantly impact `stock_FinancialYEnd`. The results and significance of these variables will vary depending on the dataset used, so it is important to analyse the model output carefully for each specific case.\n",
    "\n",
    "You can also try using `stock_FollowingQtrEnd` as the dependent (LHS) variable. "
   ]
  },
  {
   "cell_type": "code",
   "execution_count": null,
   "id": "d1a0bc27-89da-4637-92d2-4d47eb1ef702",
   "metadata": {},
   "outputs": [],
   "source": [
    "model=smf.ols('stock_FinancialYEnd ~ BVE + BasicEPS + stock_FollowingQtrEnd', data=DATA)\n",
    "results=model.fit()\n",
    "print(results.summary())"
   ]
  },
  {
   "cell_type": "markdown",
   "id": "230300ec-a9c9-431f-8001-c8cf6cfd9bd9",
   "metadata": {},
   "source": [
    "Add ESG scores as an independent variable"
   ]
  },
  {
   "cell_type": "code",
   "execution_count": null,
   "id": "65ca9134-0c85-4936-9816-44f40303be51",
   "metadata": {},
   "outputs": [],
   "source": [
    "model=smf.ols('stock_FollowingQtrEnd ~ BVE + BasicEPS + ESG_Exposure', data=DATA)\n",
    "results=model.fit()\n",
    "print(results.summary())"
   ]
  },
  {
   "cell_type": "code",
   "execution_count": null,
   "id": "38f78e82-e388-4fe8-95f9-da7f8f44aa47",
   "metadata": {},
   "outputs": [],
   "source": [
    "model=smf.ols('stock_FollowingQtrEnd ~ BVE + BasicEPS + ESG_Managed', data=DATA)\n",
    "results=model.fit()\n",
    "print(results.summary())"
   ]
  },
  {
   "cell_type": "markdown",
   "id": "4d0c6881-da08-403a-86d4-172fd3a86c0a",
   "metadata": {},
   "source": [
    "<h2>Estimate a few simple Ohlsson model with robust errors "
   ]
  },
  {
   "cell_type": "markdown",
   "id": "8c464e8c-9e9d-444a-b5b9-9509e4ff5e99",
   "metadata": {},
   "source": [
    "You will need to conduct your own research to understand Ohlsson model with robust errors and interpret the statistics in this section. **Report your findings**."
   ]
  },
  {
   "cell_type": "code",
   "execution_count": null,
   "id": "d7219b0d-e6d4-49d7-840c-3076221d3024",
   "metadata": {},
   "outputs": [],
   "source": [
    "model=smf.ols('stock_FinancialYEnd ~ BVE + BasicEPS', data=DATA)\n",
    "results=model.fit(cov_type='HC1') #HC1 is the Huber-White standard errros, can try HC3 heteroscedasticity-consistent estimator\n",
    "print(results.summary())"
   ]
  },
  {
   "cell_type": "markdown",
   "id": "9fa5b85b-ed24-4ed6-9617-2e58fdf74f9b",
   "metadata": {},
   "source": [
    "Add the ESG risk scores, try a different score one at a time, or a combination of different scores."
   ]
  },
  {
   "cell_type": "code",
   "execution_count": null,
   "id": "02846c47",
   "metadata": {},
   "outputs": [],
   "source": [
    "model = smf.ols('stock_FinancialYEnd ~ BVE + +BasicEPS + ESG_Exposure', data=DATA)\n",
    "results=model.fit(cov_type='HC1')\n",
    "print(results.summary())\n"
   ]
  },
  {
   "cell_type": "code",
   "execution_count": null,
   "id": "b59f5802",
   "metadata": {},
   "outputs": [],
   "source": [
    "model = smf.ols('stock_FinancialYEnd ~ BVE + BasicEPS + ESG_Managed', data=DATA)\n",
    "results=model.fit(cov_type='HC1')\n",
    "print(results.summary())\n"
   ]
  },
  {
   "cell_type": "code",
   "execution_count": null,
   "id": "1118d5c2",
   "metadata": {},
   "outputs": [],
   "source": [
    "model = smf.ols('stock_FinancialYEnd ~ BVE + BasicEPS + ESG_Class', data=DATA)\n",
    "results=model.fit(cov_type='HC1')\n",
    "print(results.summary())\n"
   ]
  },
  {
   "cell_type": "code",
   "execution_count": null,
   "id": "e54b76d6-5e52-465f-bd69-8d67aaf601f1",
   "metadata": {},
   "outputs": [],
   "source": [
    "model=smf.ols('stock_FinancialYEnd ~ BVE + BasicEPS + ESG_Index', data=DATA)\n",
    "results=model.fit(cov_type='HC1') #HC1 is the Huber-White standard errros, can try HC3 heteroscedasticity-consistent estimator\n",
    "print(results.summary())"
   ]
  },
  {
   "cell_type": "code",
   "execution_count": null,
   "id": "96f12c2e",
   "metadata": {},
   "outputs": [],
   "source": [
    "model = smf.ols('stock_FollowingQtrEnd ~ BVE + BasicEPS + ESG_Index', data=DATA)\n",
    "results=model.fit(cov_type='HC1')\n",
    "print(results.summary())"
   ]
  },
  {
   "cell_type": "code",
   "execution_count": null,
   "id": "2244c81c",
   "metadata": {},
   "outputs": [],
   "source": [
    "model = smf.ols('stock_FollowingQtrEnd ~ BVE + BasicEPS + ESG_Exposure + ESG_Managed', data=DATA)\n",
    "results=model.fit(cov_type='HC1')\n",
    "print"
   ]
  },
  {
   "cell_type": "markdown",
   "id": "92c1e0c3-f201-4a10-ac0b-b4e74b7db0bb",
   "metadata": {},
   "source": [
    "<h3>Extract the summary output table"
   ]
  },
  {
   "cell_type": "markdown",
   "id": "37c6b351-e0e9-40cc-882d-304a779b3351",
   "metadata": {},
   "source": [
    "Must run the following codes right after the model that's been estimated; if you want to report a few different model results, run the following codes after each model estimation, remember to give a differet name in the last line, i.e., 'summary_output_53(2,3,4,etc.)_xlsx'. You will find the output xlsx file under the same folder where you saved this jupter notebook."
   ]
  },
  {
   "cell_type": "code",
   "execution_count": null,
   "id": "83359494-2f1d-4b67-b976-259b702f4769",
   "metadata": {},
   "outputs": [],
   "source": [
    "summary = results.summary() \n",
    "\n",
    "#extract observations, adjusted r2, f-stats, log likelihood\n",
    "\n",
    "obs = results.nobs\n",
    "adjusted_r2 = results.rsquared_adj\n",
    "f_stats = results.fvalue\n",
    "log_likelihood = results.llf\n",
    "\n",
    "#convert the summary output table into a DataFrame\n",
    "\n",
    "summary_df = pd.read_html(summary.tables[1].as_html(), header=0, index_col=0)[0]\n",
    "\n",
    "#Add observations, adjusted R-squared, F-statistics, and log-likelihood to the DataFrame\n",
    "summary_df['Observations'] = obs\n",
    "summary_df['Adjusted R-squared'] = adjusted_r2\n",
    "summary_df['F-Statistic'] = f_stats\n",
    "summary_df['Log-Likelihood'] = log_likelihood\n",
    "\n",
    "#Export the DataFrame to an Excel file, give a different name if you are exporting a few tables of results, i.e., 'summary_output_53' etc.\n",
    "#you can find the xlsx file in the same folder where you keep all your Jupyter notebookds and data\n",
    "#go to the foloder and download it, format it then present it in your report\n",
    "\n",
    "summary_df.to_excel('summary_output.xlsx')"
   ]
  },
  {
   "cell_type": "markdown",
   "id": "72aed2eb-336d-4fe4-9e36-a2e200363ba0",
   "metadata": {},
   "source": [
    "<h2>Install linearmodels package to estimate panel data with fixed effects"
   ]
  },
  {
   "cell_type": "code",
   "execution_count": null,
   "id": "5649a0e2-1bd6-4226-bfa9-7303e74f498b",
   "metadata": {},
   "outputs": [],
   "source": [
    "pip install linearmodels"
   ]
  },
  {
   "cell_type": "markdown",
   "id": "71368135-1445-41d0-8711-b9e3940022f5",
   "metadata": {},
   "source": [
    "<h2>From linearmodels import PanelOLS the fixed effect package"
   ]
  },
  {
   "cell_type": "code",
   "execution_count": null,
   "id": "59d05dbb-df00-4604-b9fc-490ff4286005",
   "metadata": {},
   "outputs": [],
   "source": [
    "from linearmodels import PanelOLS\n",
    "import statsmodels.api as sm\n",
    "import pandas as pd"
   ]
  },
  {
   "cell_type": "markdown",
   "id": "3efc2dea-a427-4b49-9bbf-1d8c208f6e89",
   "metadata": {},
   "source": [
    "<h2>Estimate a fixed effect model, print out the stats, export the results, report them and discuss the results in your report"
   ]
  },
  {
   "cell_type": "markdown",
   "id": "d4b86db7-c370-4fd0-bd97-f701b6b45824",
   "metadata": {},
   "source": [
    "To estimate a fixed effect model first must organise the data into panel data and let pandas know what variable (column name) is 'entity' and what variable (column name) is 'time'\n",
    "\n",
    "https://bashtage.github.io/linearmodels/panel/panel/linearmodels.panel.model.PanelOLS.html\n",
    "https://timeseriesreasoning.com/contents/the-fixed-effects-regression-model-for-panel-data-sets/#google_vignette\n",
    "https://swh.princeton.edu/~otorres/Panel101.pdf\n",
    "\n",
    "We encourage you to write differnt codes to find a best fit model, i.e., all coefficients are significant (if possible) with high R square. You can consult your lecturers about how you can find the best model using panel data.\n",
    "\n",
    "If the fixed effect models perform poorer than the simple OLS or simple OLS with robust errors, **include your results in your report as sensitive analyses** and state that you have tried other models; then focus on interpretting the models that yield the best results."
   ]
  },
  {
   "cell_type": "markdown",
   "id": "29bffeda-42fc-4b4a-aa18-ee718a45ede7",
   "metadata": {},
   "source": [
    "Step 1: Organise the data into a panel data format. \n",
    "Specify `Company` and `Year` are the fixed effects. \n",
    "The order matters! \n",
    "The first in the `set_index` code tells Python that variable is the 'entity' fixed effect, the second is the 'time' fixed effect."
   ]
  },
  {
   "cell_type": "code",
   "execution_count": null,
   "id": "d0d09df6-512b-4149-a8f4-ccebfcf9bc17",
   "metadata": {},
   "outputs": [],
   "source": [
    "FixedEffect=pd.DataFrame(DATA).set_index(['Company', 'Year'])"
   ]
  },
  {
   "cell_type": "markdown",
   "id": "093ebca8-5e7c-4cd5-9cdf-b843fc5a0907",
   "metadata": {},
   "source": [
    "Step 2: Define `stock_FinancialYEnd` as the dependent variable (y) and `BVE`, `BasicEPS` as the independent variables (X)"
   ]
  },
  {
   "cell_type": "code",
   "execution_count": null,
   "id": "01111245-5c0d-49f9-8922-169c98611ea0",
   "metadata": {},
   "outputs": [],
   "source": [
    "#define the dependent variable\n",
    "y = FixedEffect['stock_FinancialYEnd']\n",
    "\n",
    "#define the independent variables and add constant to the model\n",
    "X = sm.add_constant(FixedEffect[['BVE', 'BasicEPS']])"
   ]
  },
  {
   "cell_type": "markdown",
   "id": "514de8d6-4a68-4743-9956-6992f488edb2",
   "metadata": {},
   "source": [
    "Step 3: Estimate the fixed effect model with entity fixed effect; and print the results."
   ]
  },
  {
   "cell_type": "code",
   "execution_count": null,
   "id": "5598ab55-f0e4-4d50-9255-4112abe91b93",
   "metadata": {},
   "outputs": [],
   "source": [
    "Model_F = PanelOLS(y, X, entity_effects=True) #entity here is 'Company' which is the firm fixed effect\n",
    "results = Model_F.fit()\n",
    "print(results)  "
   ]
  },
  {
   "cell_type": "markdown",
   "id": "3595a683-b791-4f89-918e-65a894a32bb3",
   "metadata": {},
   "source": [
    "You can specify `SECTOR` as the entity fixed effect. We encourage you to write different codes to find a best fit model."
   ]
  },
  {
   "cell_type": "code",
   "execution_count": null,
   "id": "9b40706c-1dd6-4429-bfd3-75384a3b7218",
   "metadata": {},
   "outputs": [],
   "source": [
    "FixedEffect=pd.DataFrame(DATA).set_index(['SECTOR', 'Year'])\n",
    "\n",
    "y = FixedEffect['stock_FinancialYEnd']\n",
    "X = sm.add_constant(FixedEffect[['BVE', 'BasicEPS']])\n",
    "\n",
    "Model_F = PanelOLS(y, X, entity_effects=True) #entity here is 'SECTOR' which is the SECTOR fixed effect\n",
    "results = Model_F.fit()\n",
    "print(results)  "
   ]
  },
  {
   "cell_type": "markdown",
   "id": "b280d5ed-9731-40dd-b4b0-a953cdbbe883",
   "metadata": {},
   "source": [
    "Step 4: Estimate the fixed effect model with both the `Company` and `Year` fixed effect; print the results. \n",
    "In the following model, we change entity back to `Company`."
   ]
  },
  {
   "cell_type": "code",
   "execution_count": null,
   "id": "8def8dcd-f829-423f-9815-4a4ac063cb1e",
   "metadata": {},
   "outputs": [],
   "source": [
    "FixedEffect=pd.DataFrame(DATA).set_index(['Company', 'Year'])\n",
    "\n",
    "Model_F = PanelOLS(y, X, entity_effects=True, time_effects=True) \n",
    "\n",
    "#entity here is 'Company' which is the firm fixed effect; time here is 'Year' which is the time fixed effect\n",
    "\n",
    "results = Model_F.fit()\n",
    "print(results) "
   ]
  },
  {
   "cell_type": "markdown",
   "id": "b45ceb0a-9448-470b-8e0f-fe0a5965acc1",
   "metadata": {},
   "source": [
    "Add other variables in the right hand side, i.e., `ESG_Index`. We also cluster the robust errors by entity and time in the estimation. Try different model specifications to find the best model, **report and interpret the results**."
   ]
  },
  {
   "cell_type": "code",
   "execution_count": null,
   "id": "e8fa7ba2-b84f-4f29-af8e-3b28b6dccc5d",
   "metadata": {},
   "outputs": [],
   "source": [
    "FixedEffect=pd.DataFrame(DATA).set_index(['SECTOR', 'Year'])\n",
    "y = FixedEffect['stock_FinancialYEnd']\n",
    "X = sm.add_constant(FixedEffect[['BVE', 'BasicEPS', 'ESG_Index']])\n",
    "\n",
    "#Try all different ESG risk scores and interpret the results accordingly\n",
    "\n",
    "Model_F = PanelOLS(y, X, entity_effects=True, time_effects=True) \n",
    "\n",
    "#Try different clusters\n",
    "results = Model_F.fit(cov_type='clustered', cluster_entity=True, cluster_time=True)\n",
    "results.summary"
   ]
  },
  {
   "cell_type": "code",
   "execution_count": null,
   "id": "50de5580-7948-446a-8ea0-9690822b8685",
   "metadata": {},
   "outputs": [],
   "source": [
    "params_df = pd.DataFrame({\n",
    "    'Parameter': results.params,\n",
    "    'Std. Err.': results.std_errors,\n",
    "    'T-stat': results.tstats,\n",
    "    'P-value': results.pvalues,\n",
    "    'Lower CI': results.conf_int().iloc[:, 0],\n",
    "    'Upper CI': results.conf_int().iloc[:, 1]\n",
    "})\n",
    "\n",
    "# Reset index to include the parameter names as a column\n",
    "params_df = params_df.reset_index().rename(columns={'index': 'Variable'})\n",
    "\n",
    "params_df[' '] = np.nan  # Adds an empty column named with a space\n",
    "# Step 3: Add additional model statistics to the DataFrame\n",
    "additional_stats = {\n",
    "    'R-squared': [results.rsquared],\n",
    "    'No. Observations': [results.nobs],\n",
    "}\n",
    "\n",
    "# Convert the additional statistics dictionary into a DataFrame\n",
    "additional_stats_df = pd.DataFrame(additional_stats)\n",
    "\n",
    "# Step 4: Combine parameter estimates with the additional statistics\n",
    "combined_df = pd.concat([params_df, additional_stats_df], axis=1)\n",
    "\n",
    "combined_df.to_excel('panel_ols_summary_output.xlsx', index=False, float_format=None)\n",
    "\n",
    "print(\"Summary output exported to 'panel_ols_summary_output.xlsx'\") ##use different file names for different models otherwise the file will overwrite saved results"
   ]
  },
  {
   "cell_type": "markdown",
   "id": "885204c1-731d-4f3f-80a0-67ce16d022e5",
   "metadata": {},
   "source": [
    "<h2>Optional: Additional analyses"
   ]
  },
  {
   "cell_type": "markdown",
   "id": "1c45570e-406a-47aa-8c01-ebd365fa3c93",
   "metadata": {},
   "source": [
    "<H3>Drop SECTOR = Energy, renmae the dataframe as 'data'"
   ]
  },
  {
   "cell_type": "code",
   "execution_count": null,
   "id": "6cd5e2b7-c65b-465f-ba93-31332b3a5205",
   "metadata": {},
   "outputs": [],
   "source": [
    "data = DATA[DATA['SECTOR'] != 9]\n",
    "FixedEffect=pd.DataFrame(data).set_index(['SECTOR', 'Year'])\n",
    "y = FixedEffect['stock_FinancialYEnd']\n",
    "X = sm.add_constant(FixedEffect[['BVE', 'BasicEPS', 'ESG_Index']])\n",
    "\n",
    "#Try all different ESG risk scores and interpret the results accordingly\n",
    "\n",
    "Model_F = PanelOLS(y, X, entity_effects=True, time_effects=True) \n",
    "\n",
    "#Try different clusters\n",
    "results = Model_F.fit(cov_type='clustered', cluster_entity=True, cluster_time=True)\n",
    "results.summary"
   ]
  },
  {
   "cell_type": "markdown",
   "id": "7bfb335e-212d-44e3-91d6-1de129eddc75",
   "metadata": {},
   "source": [
    "<h4>There is a slight improvement in the model fit."
   ]
  },
  {
   "cell_type": "code",
   "execution_count": null,
   "id": "9ac48a44-4206-432f-838c-bc0d663286c2",
   "metadata": {},
   "outputs": [],
   "source": [
    "import pandas as pd\n",
    "import statsmodels.api as sm\n",
    "import numpy as np\n",
    "import matplotlib.pyplot as plt"
   ]
  },
  {
   "cell_type": "markdown",
   "id": "d210d23e-fae0-434f-ab36-56bb0476e291",
   "metadata": {},
   "source": [
    "<h3>Plot a few scenarios to visualise the impacts of varying independent variables on the dependent variable"
   ]
  },
  {
   "cell_type": "code",
   "execution_count": null,
   "id": "dc23b8c8-7824-4972-9895-0d76fdae1efb",
   "metadata": {},
   "outputs": [],
   "source": [
    "FixedEffect=pd.DataFrame(DATA).set_index(['SECTOR', 'Year'])\n",
    "y = FixedEffect['stock_FinancialYEnd']\n",
    "X = sm.add_constant(FixedEffect[['BVE', 'BasicEPS', 'ESG_Index']])\n",
    "\n",
    "Model_F = PanelOLS(y, X, entity_effects=True, time_effects=True) \n",
    "\n",
    "#clusters\n",
    "results = Model_F.fit(cov_type='clustered', cluster_entity=True, cluster_time=True)\n",
    "results.summary"
   ]
  },
  {
   "cell_type": "code",
   "execution_count": null,
   "id": "c7dc534e-8847-46c3-b664-73437bd37188",
   "metadata": {},
   "outputs": [],
   "source": [
    "import pandas as pd\n",
    "import statsmodels.api as sm\n",
    "import numpy as np\n",
    "import matplotlib.pyplot as plt\n",
    "\n",
    "# Step 1: Load the data\n",
    "DATA = pd.read_csv('DATA.csv')  # Assuming the data file is 'DATA.csv'\n",
    "\n",
    "# Step 2: Define independent and dependent variables\n",
    "# Define dependent variable (stock price: stock_FinancialYEnd)\n",
    "y = DATA['stock_FinancialYEnd']\n",
    "\n",
    "# Define independent variables (BVE, BasicEPS, ESG_Index)\n",
    "X = DATA[['BVE', 'BasicEPS', 'ESG_Index']]\n",
    "\n",
    "# Step 3: Add constant to the model\n",
    "X = sm.add_constant(X)\n",
    "\n",
    "# Step 4: Fit the OLS regression model\n",
    "model = sm.OLS(y, X).fit()\n",
    "\n",
    "# Print model summary\n",
    "print(model.summary())"
   ]
  },
  {
   "cell_type": "code",
   "execution_count": null,
   "id": "3aacaa9d-2a07-4112-9863-04f116fe17e6",
   "metadata": {},
   "outputs": [],
   "source": [
    "# Step 5: Define scenarios with all variables\n",
    "scenarios = {\n",
    "    'Baseline': {'BasicEPS': 1.0, 'BVE': 1.0, 'ESG_Index': 1.0},  # Baseline scenario\n",
    "    'Increase BVE by 10%': {'BVE': 1.10, 'ESG_Index': 1.0, 'BasicEPS': 1.0},\n",
    "    'Decrease BVE by 10%': {'BVE': 0.90, 'ESG_Index': 1.0, 'BasicEPS': 1.0},\n",
    "    'Increase ESG_Index by 20%': {'BVE': 1.0, 'ESG_Index': 1.20, 'BasicEPS': 1.0},\n",
    "    'Decrease ESG_Index by 20%': {'BVE': 1.0, 'ESG_Index': 0.80, 'BasicEPS': 1.0},\n",
    "    'Increase BasicEPS by 15%': {'BVE': 1.0, 'ESG_Index': 1.0, 'BasicEPS': 1.15},\n",
    "    'Decrease BasicEPS by 15%': {'BVE': 1.0, 'ESG_Index': 1.0, 'BasicEPS': 0.85},\n",
    "}"
   ]
  },
  {
   "cell_type": "code",
   "execution_count": null,
   "id": "b40af72a-47b7-4d8e-ae59-e4163d5ec2f7",
   "metadata": {},
   "outputs": [],
   "source": [
    "# Step 6: Run simulations for different scenarios\n",
    "results = {}\n",
    "\n",
    "for scenario, changes in scenarios.items():\n",
    "    # Modify independent variables based on the scenario\n",
    "    DATA['BasicEPS_new'] = DATA['BasicEPS'] * changes['BasicEPS']\n",
    "    DATA['ESG_Index_new'] = DATA['ESG_Index'] * changes['ESG_Index']\n",
    "    DATA['BVE_new'] = DATA['BVE'] * changes['BVE']\n",
    "\n",
    "# Build a new independent variable matrix using the modified data\n",
    "    X_new = DATA[['BasicEPS_new', 'BVE_new', 'ESG_Index_new']]\n",
    "    X_new = sm.add_constant(X_new)\n",
    "    \n",
    "    # Predict the stock price using the regression model\n",
    "    stock_FinancialYEnd_predicted = model.predict(X_new)\n",
    "    \n",
    "    # Store results\n",
    "    results[scenario] = stock_FinancialYEnd_predicted"
   ]
  },
  {
   "cell_type": "code",
   "execution_count": null,
   "id": "17f55fb1-ba8a-49ba-8bad-dcc374ea533b",
   "metadata": {},
   "outputs": [],
   "source": [
    "# Step 7: Visualize the stock price predictions for different scenarios\n",
    "plt.figure(figsize=(10,6))\n",
    "plt.plot(DATA['stock_FinancialYEnd'], label='Actual Stock Price', color='blue', marker='o')\n",
    "for scenario, prediction in results.items():\n",
    "    plt.plot(prediction, label=f'Predicted Stock Price ({scenario})', marker='x')\n",
    "plt.title('What-If Simulation: Impact of Changes in BasicEPS, BVE, and ESG_Index')\n",
    "plt.xlabel('Data Points')\n",
    "plt.ylabel('Stock Price')\n",
    "plt.legend()\n",
    "plt.grid(True)\n",
    "plt.show()"
   ]
  },
  {
   "cell_type": "code",
   "execution_count": null,
   "id": "7942b97d-0d50-4673-9833-d166ff66e311",
   "metadata": {},
   "outputs": [],
   "source": [
    "# Step 8: Analyze the sensitivity of each variable\n",
    "# Calculate the mean change in each scenario\n",
    "for scenario, prediction in results.items():\n",
    "    mean_predicted = prediction.mean()\n",
    "    print(f\"Mean predicted stock price in the {scenario} scenario: {mean_predicted}\")\n",
    "\n",
    "# Step 9: Verify the model assumptions\n",
    "# Compare the deviation of each scenario from the baseline\n",
    "baseline_mean = results['Baseline'].mean()\n",
    "for scenario, prediction in results.items():\n",
    "    mean_predicted = prediction.mean()\n",
    "    deviation = abs(mean_predicted - baseline_mean)\n",
    "    print(f\"Deviation from baseline in the {scenario} scenario: {deviation}\")"
   ]
  },
  {
   "cell_type": "markdown",
   "id": "9282dd1d-f29f-4fb6-82a7-73bb8983f3da",
   "metadata": {},
   "source": [
    "<h1>The End"
   ]
  }
 ],
 "metadata": {
  "kernelspec": {
   "display_name": "base",
   "language": "python",
   "name": "python3"
  },
  "language_info": {
   "codemirror_mode": {
    "name": "ipython",
    "version": 3
   },
   "file_extension": ".py",
   "mimetype": "text/x-python",
   "name": "python",
   "nbconvert_exporter": "python",
   "pygments_lexer": "ipython3",
   "version": "3.11.5"
  }
 },
 "nbformat": 4,
 "nbformat_minor": 5
}
